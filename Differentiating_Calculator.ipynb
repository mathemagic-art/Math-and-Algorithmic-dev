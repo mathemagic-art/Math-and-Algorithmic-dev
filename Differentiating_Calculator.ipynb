{
 "cells": [
  {
   "cell_type": "markdown",
   "metadata": {
    "id": "YocClxlmYDfj"
   },
   "source": [
    " **Differtiating Calculator**\n",
    " "
   ]
  },
  {
   "cell_type": "code",
   "execution_count": 3,
   "metadata": {
    "colab": {
     "base_uri": "https://localhost:8080/",
     "height": 70
    },
    "id": "Nt10rJqIYC77",
    "outputId": "3605ccaa-2cc5-42b2-aae4-f030e5e8f1f8"
   },
   "outputs": [],
   "source": [
    "from sympy import *\n",
    "# We have to create a \"symbol\" called x, as you will have any (a,h or y variables) you should write 'var = Symbol ('var')' and ect\n",
    "def Differentiating_Calculator(f):\n",
    "    x = Symbol('x') #these are variables\n",
    "    f = f.replace('e', 'E')\n",
    "    f = sympify(f) #this is input (be careful with writing the power of exp, because here we dont use usal (**) but just take in breakets \n",
    "    f_prime = f.diff(x)  \n",
    "    f = lambdify(x, f) #idetifiying respect to which variable we are taking variable\n",
    "    #print in the space (f_prime) it will give the answer\n",
    "    return f_prime"
   ]
  }
 ],
 "metadata": {
  "colab": {
   "collapsed_sections": [],
   "name": "Копия блокнота \"Differentiating Calculator.ipynb\"",
   "provenance": []
  },
  "kernelspec": {
   "display_name": "Python 3 (ipykernel)",
   "language": "python",
   "name": "python3"
  },
  "language_info": {
   "codemirror_mode": {
    "name": "ipython",
    "version": 3
   },
   "file_extension": ".py",
   "mimetype": "text/x-python",
   "name": "python",
   "nbconvert_exporter": "python",
   "pygments_lexer": "ipython3",
   "version": "3.9.12"
  }
 },
 "nbformat": 4,
 "nbformat_minor": 1
}
